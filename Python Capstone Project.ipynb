{
 "cells": [
  {
   "cell_type": "code",
   "execution_count": 1,
   "id": "5ba6bca1-0382-475a-950b-6b3d8572f179",
   "metadata": {},
   "outputs": [
    {
     "name": "stdin",
     "output_type": "stream",
     "text": [
      "Enter your email address:  waidandedurgesh@gmail.com\n",
      "Enter your app password:  ········\n"
     ]
    },
    {
     "name": "stdout",
     "output_type": "stream",
     "text": [
      "OTP sent to waidandedurgesh@gmail.com\n"
     ]
    },
    {
     "name": "stdin",
     "output_type": "stream",
     "text": [
      "Enter the OTP sent to your email:  123456\n"
     ]
    },
    {
     "name": "stdout",
     "output_type": "stream",
     "text": [
      "Access Denied\n"
     ]
    }
   ],
   "source": [
    "import random\n",
    "import smtplib\n",
    "from email.message import EmailMessage\n",
    "import getpass\n",
    "\n",
    "#Function to generate a 6-digit OTP\n",
    "def generate_otp():\n",
    "    return random.randint(100000, 999999)\n",
    "\n",
    "#Function to send OTP via email\n",
    "def send_otp(email, otp):\n",
    "    sender_email = \"waidandedurgesh@gmail.com\"  \n",
    "    sender_password = getpass.getpass(\"Enter your app password: \")  \n",
    "\n",
    "    msg = EmailMessage()\n",
    "    msg.set_content(f\"Your OTP is {otp}\")\n",
    "    msg[\"Subject\"] = \"Your OTP Code\"\n",
    "    msg[\"From\"] = sender_email\n",
    "    msg[\"To\"] = email\n",
    "\n",
    "    #Sending email\n",
    "    try:\n",
    "        with smtplib.SMTP_SSL(\"smtp.gmail.com\", 465) as server:\n",
    "            server.login(sender_email, sender_password)\n",
    "            server.send_message(msg)\n",
    "        print(f\"OTP sent to {email}\")\n",
    "    except Exception as e:\n",
    "        print(f\"Failed to send email: {e}\")\n",
    "\n",
    "# Function to validate the OTP entered by the user\n",
    "def validate_otp(generated_otp):\n",
    "    user_otp = input(\"Enter the OTP sent to your email: \")\n",
    "    if user_otp.isdigit() and int(user_otp) == generated_otp:\n",
    "        return True\n",
    "    return False\n",
    "\n",
    "def main():\n",
    "    email = input(\"Enter your email address: \")\n",
    "    otp = generate_otp()\n",
    "    send_otp(email, otp)\n",
    "    \n",
    "    if validate_otp(otp):\n",
    "        print(\"Access Granted\")\n",
    "    else:\n",
    "        print(\"Access Denied\")\n",
    "\n",
    "if __name__ == \"__main__\":\n",
    "    main()\n"
   ]
  },
  {
   "cell_type": "code",
   "execution_count": null,
   "id": "0cb13fb1-f520-4ea1-b70e-efc0ac285e9d",
   "metadata": {},
   "outputs": [],
   "source": [
    "\n"
   ]
  },
  {
   "cell_type": "code",
   "execution_count": null,
   "id": "3e1fa38d-e5fb-4f7d-83d4-8b4baaee2889",
   "metadata": {},
   "outputs": [],
   "source": []
  }
 ],
 "metadata": {
  "kernelspec": {
   "display_name": "Python 3 (ipykernel)",
   "language": "python",
   "name": "python3"
  },
  "language_info": {
   "codemirror_mode": {
    "name": "ipython",
    "version": 3
   },
   "file_extension": ".py",
   "mimetype": "text/x-python",
   "name": "python",
   "nbconvert_exporter": "python",
   "pygments_lexer": "ipython3",
   "version": "3.11.7"
  }
 },
 "nbformat": 4,
 "nbformat_minor": 5
}
